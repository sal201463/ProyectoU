{
  "nbformat": 4,
  "nbformat_minor": 0,
  "metadata": {
    "colab": {
      "name": "DS6011_HT04.ipynb",
      "provenance": [],
      "collapsed_sections": [],
      "toc_visible": true,
      "include_colab_link": true
    },
    "kernelspec": {
      "name": "python3",
      "display_name": "Python 3"
    },
    "language_info": {
      "name": "python"
    }
  },
  "cells": [
    {
      "cell_type": "markdown",
      "metadata": {
        "id": "view-in-github",
        "colab_type": "text"
      },
      "source": [
        "<a href=\"https://colab.research.google.com/github/sal201463/ProyectoU/blob/main/DS6011_HT04.ipynb\" target=\"_parent\"><img src=\"https://colab.research.google.com/assets/colab-badge.svg\" alt=\"Open In Colab\"/></a>"
      ]
    },
    {
      "cell_type": "markdown",
      "metadata": {
        "id": "saaO06RMwzGH"
      },
      "source": [
        "# Hoja de Trabajo \\# 4\n",
        "\n",
        "---\n",
        "\n",
        "\n",
        "por Josué Obregón <br>\n",
        "DS6011 - Feature Engineering <br>\n",
        "UVG Masters - Escuela de Negocios<br>\n"
      ]
    },
    {
      "cell_type": "markdown",
      "metadata": {
        "id": "w0-nImUHNxOv"
      },
      "source": [
        "## Objetivos\n",
        "\n",
        "El objetivo de esta hoja de trabajo  es presentar al estudiante diferentes técnicas de codificación de variables categóricas. Éstas técnicas incluyen codificadores clásicos, de contraste y codificadores supervisados o bayesianos.\n",
        "\n",
        "También se busca que el estudiante practique la utilización de éstas técnicas con las librerías disponibles en el lenguaje Python.\n"
      ]
    },
    {
      "cell_type": "markdown",
      "metadata": {
        "id": "RYjZ_KEuTCTe"
      },
      "source": [
        "## Importación de librerías y carga de los datos a varios pandas [DataFrames](https://pandas.pydata.org/pandas-docs/version/1.1.5/reference/frame.html)\n",
        "\n",
        "\n"
      ]
    },
    {
      "cell_type": "code",
      "metadata": {
        "id": "wMpdDWhPMSS7"
      },
      "source": [
        "import pandas as pd\n",
        "import numpy as np\n",
        "import matplotlib.pyplot as plt\n",
        "import seaborn as sns\n",
        "import plotly.express as px\n",
        "import plotly.graph_objects as go"
      ],
      "execution_count": 1,
      "outputs": []
    },
    {
      "cell_type": "code",
      "metadata": {
        "id": "bBRl7VGfALex",
        "outputId": "423d0fde-f39a-461c-da4a-7dec2ec8d827",
        "colab": {
          "base_uri": "https://localhost:8080/"
        }
      },
      "source": [
        "!mkdir data"
      ],
      "execution_count": 3,
      "outputs": [
        {
          "output_type": "stream",
          "text": [
            "mkdir: cannot create directory ‘data’: File exists\n"
          ],
          "name": "stdout"
        }
      ]
    },
    {
      "cell_type": "code",
      "metadata": {
        "id": "YR1uTokC8Wzi",
        "outputId": "d5a525d5-1a83-4d2a-f391-a6dbf8e27b88",
        "colab": {
          "base_uri": "https://localhost:8080/"
        }
      },
      "source": [
        "import gdown\n",
        "\n",
        "urls = ['https://drive.google.com/uc?export=download&id=16AGQw1nM9NYILv2aSZaSNSn9jBPByWPq', # okc_train  https://drive.google.com/file/d/16AGQw1nM9NYILv2aSZaSNSn9jBPByWPq/view?usp=sharing\n",
        "        ]\n",
        "outputs = ['okc_train.csv']\n",
        "for url,output in zip(urls,outputs):\n",
        "  gdown.download(url, f'data/{output}', quiet=False)"
      ],
      "execution_count": 4,
      "outputs": [
        {
          "output_type": "stream",
          "text": [
            "Downloading...\n",
            "From: https://drive.google.com/uc?export=download&id=16AGQw1nM9NYILv2aSZaSNSn9jBPByWPq\n",
            "To: /content/data/okc_train.csv\n",
            "12.3MB [00:00, 62.1MB/s]\n"
          ],
          "name": "stderr"
        }
      ]
    },
    {
      "cell_type": "code",
      "metadata": {
        "id": "tbt7GzUNOT3O"
      },
      "source": [
        "df = pd.read_csv('data/okc_train.csv',index_col=0)"
      ],
      "execution_count": 5,
      "outputs": []
    },
    {
      "cell_type": "code",
      "metadata": {
        "id": "JZpHzHmXH_9p",
        "outputId": "b2e6f8ca-b418-4531-bc9b-325ecb30d0b2",
        "colab": {
          "base_uri": "https://localhost:8080/",
          "height": 217
        }
      },
      "source": [
        "df.head()"
      ],
      "execution_count": 6,
      "outputs": [
        {
          "output_type": "execute_result",
          "data": {
            "text/html": [
              "<div>\n",
              "<style scoped>\n",
              "    .dataframe tbody tr th:only-of-type {\n",
              "        vertical-align: middle;\n",
              "    }\n",
              "\n",
              "    .dataframe tbody tr th {\n",
              "        vertical-align: top;\n",
              "    }\n",
              "\n",
              "    .dataframe thead th {\n",
              "        text-align: right;\n",
              "    }\n",
              "</style>\n",
              "<table border=\"1\" class=\"dataframe\">\n",
              "  <thead>\n",
              "    <tr style=\"text-align: right;\">\n",
              "      <th></th>\n",
              "      <th>age</th>\n",
              "      <th>diet</th>\n",
              "      <th>drinks</th>\n",
              "      <th>drugs</th>\n",
              "      <th>education</th>\n",
              "      <th>height</th>\n",
              "      <th>income</th>\n",
              "      <th>last_online</th>\n",
              "      <th>offspring</th>\n",
              "      <th>pets</th>\n",
              "      <th>religion</th>\n",
              "      <th>sign</th>\n",
              "      <th>smokes</th>\n",
              "      <th>status</th>\n",
              "      <th>where_state</th>\n",
              "      <th>where_town</th>\n",
              "      <th>religion_modifer</th>\n",
              "      <th>sign_modifer</th>\n",
              "      <th>cpp</th>\n",
              "      <th>cpp_fluently</th>\n",
              "      <th>cpp_okay</th>\n",
              "      <th>cpp_poorly</th>\n",
              "      <th>lisp</th>\n",
              "      <th>lisp_fluently</th>\n",
              "      <th>lisp_okay</th>\n",
              "      <th>lisp_poorly</th>\n",
              "      <th>asian</th>\n",
              "      <th>black</th>\n",
              "      <th>hispanic_latin</th>\n",
              "      <th>indian</th>\n",
              "      <th>middle_eastern</th>\n",
              "      <th>native_american</th>\n",
              "      <th>other</th>\n",
              "      <th>pacific_islander</th>\n",
              "      <th>white</th>\n",
              "      <th>essay_length</th>\n",
              "      <th>Class</th>\n",
              "      <th>profile</th>\n",
              "    </tr>\n",
              "  </thead>\n",
              "  <tbody>\n",
              "    <tr>\n",
              "      <th>1</th>\n",
              "      <td>22</td>\n",
              "      <td>strictly_anything</td>\n",
              "      <td>socially</td>\n",
              "      <td>never</td>\n",
              "      <td>working_on_college_university</td>\n",
              "      <td>75</td>\n",
              "      <td>missing</td>\n",
              "      <td>3</td>\n",
              "      <td>doesnt_have_kids_but_might_want_them</td>\n",
              "      <td>likes_dogs_and_likes_cats</td>\n",
              "      <td>agnosticism</td>\n",
              "      <td>gemini</td>\n",
              "      <td>sometimes</td>\n",
              "      <td>single</td>\n",
              "      <td>california</td>\n",
              "      <td>south_san_francisco</td>\n",
              "      <td>and_very_serious_about_it</td>\n",
              "      <td>sign_mod_missing</td>\n",
              "      <td>0</td>\n",
              "      <td>0</td>\n",
              "      <td>0</td>\n",
              "      <td>0</td>\n",
              "      <td>0</td>\n",
              "      <td>0</td>\n",
              "      <td>0</td>\n",
              "      <td>0</td>\n",
              "      <td>1</td>\n",
              "      <td>0</td>\n",
              "      <td>0</td>\n",
              "      <td>0</td>\n",
              "      <td>0</td>\n",
              "      <td>0</td>\n",
              "      <td>0</td>\n",
              "      <td>0</td>\n",
              "      <td>1</td>\n",
              "      <td>3.420945</td>\n",
              "      <td>other</td>\n",
              "      <td>1</td>\n",
              "    </tr>\n",
              "    <tr>\n",
              "      <th>4</th>\n",
              "      <td>23</td>\n",
              "      <td>vegetarian</td>\n",
              "      <td>socially</td>\n",
              "      <td>drugs_missing</td>\n",
              "      <td>working_on_college_university</td>\n",
              "      <td>71</td>\n",
              "      <td>inc20000</td>\n",
              "      <td>3</td>\n",
              "      <td>doesnt_want_kids</td>\n",
              "      <td>likes_cats</td>\n",
              "      <td>religion_missing</td>\n",
              "      <td>pisces</td>\n",
              "      <td>no</td>\n",
              "      <td>single</td>\n",
              "      <td>california</td>\n",
              "      <td>berkeley</td>\n",
              "      <td>religion_mod_missing</td>\n",
              "      <td>sign_mod_missing</td>\n",
              "      <td>0</td>\n",
              "      <td>0</td>\n",
              "      <td>0</td>\n",
              "      <td>0</td>\n",
              "      <td>0</td>\n",
              "      <td>0</td>\n",
              "      <td>0</td>\n",
              "      <td>0</td>\n",
              "      <td>0</td>\n",
              "      <td>0</td>\n",
              "      <td>0</td>\n",
              "      <td>0</td>\n",
              "      <td>0</td>\n",
              "      <td>0</td>\n",
              "      <td>0</td>\n",
              "      <td>0</td>\n",
              "      <td>1</td>\n",
              "      <td>2.671173</td>\n",
              "      <td>other</td>\n",
              "      <td>3</td>\n",
              "    </tr>\n",
              "    <tr>\n",
              "      <th>6</th>\n",
              "      <td>29</td>\n",
              "      <td>mostly_anything</td>\n",
              "      <td>socially</td>\n",
              "      <td>drugs_missing</td>\n",
              "      <td>graduated_from_college_university</td>\n",
              "      <td>67</td>\n",
              "      <td>missing</td>\n",
              "      <td>2</td>\n",
              "      <td>doesnt_have_kids_but_might_want_them</td>\n",
              "      <td>likes_cats</td>\n",
              "      <td>atheism</td>\n",
              "      <td>taurus</td>\n",
              "      <td>no</td>\n",
              "      <td>single</td>\n",
              "      <td>california</td>\n",
              "      <td>san_francisco</td>\n",
              "      <td>religion_mod_missing</td>\n",
              "      <td>sign_mod_missing</td>\n",
              "      <td>0</td>\n",
              "      <td>0</td>\n",
              "      <td>0</td>\n",
              "      <td>0</td>\n",
              "      <td>0</td>\n",
              "      <td>0</td>\n",
              "      <td>0</td>\n",
              "      <td>0</td>\n",
              "      <td>0</td>\n",
              "      <td>0</td>\n",
              "      <td>0</td>\n",
              "      <td>0</td>\n",
              "      <td>0</td>\n",
              "      <td>0</td>\n",
              "      <td>0</td>\n",
              "      <td>0</td>\n",
              "      <td>1</td>\n",
              "      <td>3.391112</td>\n",
              "      <td>stem</td>\n",
              "      <td>5</td>\n",
              "    </tr>\n",
              "    <tr>\n",
              "      <th>8</th>\n",
              "      <td>31</td>\n",
              "      <td>mostly_anything</td>\n",
              "      <td>socially</td>\n",
              "      <td>never</td>\n",
              "      <td>graduated_from_college_university</td>\n",
              "      <td>65</td>\n",
              "      <td>missing</td>\n",
              "      <td>2</td>\n",
              "      <td>doesnt_have_kids_but_wants_them</td>\n",
              "      <td>likes_dogs_and_likes_cats</td>\n",
              "      <td>christianity</td>\n",
              "      <td>sagittarius</td>\n",
              "      <td>no</td>\n",
              "      <td>single</td>\n",
              "      <td>california</td>\n",
              "      <td>san_francisco</td>\n",
              "      <td>religion_mod_missing</td>\n",
              "      <td>sign_mod_missing</td>\n",
              "      <td>0</td>\n",
              "      <td>0</td>\n",
              "      <td>0</td>\n",
              "      <td>0</td>\n",
              "      <td>0</td>\n",
              "      <td>0</td>\n",
              "      <td>0</td>\n",
              "      <td>0</td>\n",
              "      <td>0</td>\n",
              "      <td>0</td>\n",
              "      <td>0</td>\n",
              "      <td>0</td>\n",
              "      <td>0</td>\n",
              "      <td>0</td>\n",
              "      <td>0</td>\n",
              "      <td>0</td>\n",
              "      <td>1</td>\n",
              "      <td>3.090611</td>\n",
              "      <td>other</td>\n",
              "      <td>6</td>\n",
              "    </tr>\n",
              "    <tr>\n",
              "      <th>10</th>\n",
              "      <td>37</td>\n",
              "      <td>mostly_anything</td>\n",
              "      <td>not_at_all</td>\n",
              "      <td>never</td>\n",
              "      <td>working_on_two_year_college</td>\n",
              "      <td>65</td>\n",
              "      <td>missing</td>\n",
              "      <td>3</td>\n",
              "      <td>kids_missing</td>\n",
              "      <td>likes_dogs_and_likes_cats</td>\n",
              "      <td>atheism</td>\n",
              "      <td>cancer</td>\n",
              "      <td>no</td>\n",
              "      <td>single</td>\n",
              "      <td>california</td>\n",
              "      <td>san_mateo</td>\n",
              "      <td>and_laughing_about_it</td>\n",
              "      <td>but_it_doesnt_matter</td>\n",
              "      <td>0</td>\n",
              "      <td>0</td>\n",
              "      <td>0</td>\n",
              "      <td>0</td>\n",
              "      <td>0</td>\n",
              "      <td>0</td>\n",
              "      <td>0</td>\n",
              "      <td>0</td>\n",
              "      <td>0</td>\n",
              "      <td>0</td>\n",
              "      <td>0</td>\n",
              "      <td>0</td>\n",
              "      <td>0</td>\n",
              "      <td>0</td>\n",
              "      <td>0</td>\n",
              "      <td>0</td>\n",
              "      <td>1</td>\n",
              "      <td>3.382377</td>\n",
              "      <td>other</td>\n",
              "      <td>7</td>\n",
              "    </tr>\n",
              "  </tbody>\n",
              "</table>\n",
              "</div>"
            ],
            "text/plain": [
              "    age               diet      drinks  ... essay_length  Class  profile\n",
              "1    22  strictly_anything    socially  ...     3.420945  other        1\n",
              "4    23         vegetarian    socially  ...     2.671173  other        3\n",
              "6    29    mostly_anything    socially  ...     3.391112   stem        5\n",
              "8    31    mostly_anything    socially  ...     3.090611  other        6\n",
              "10   37    mostly_anything  not_at_all  ...     3.382377  other        7\n",
              "\n",
              "[5 rows x 38 columns]"
            ]
          },
          "metadata": {
            "tags": []
          },
          "execution_count": 6
        }
      ]
    },
    {
      "cell_type": "code",
      "metadata": {
        "id": "w__Vfr55ICKt",
        "outputId": "30de78fc-f345-4e53-9642-9377a690e135",
        "colab": {
          "base_uri": "https://localhost:8080/"
        }
      },
      "source": [
        "df['drinks'].value_counts()"
      ],
      "execution_count": 7,
      "outputs": [
        {
          "output_type": "execute_result",
          "data": {
            "text/plain": [
              "socially          27521\n",
              "rarely             3981\n",
              "often              3413\n",
              "not_at_all         2157\n",
              "drinks_missing     1208\n",
              "very_often          319\n",
              "desperately         210\n",
              "Name: drinks, dtype: int64"
            ]
          },
          "metadata": {
            "tags": []
          },
          "execution_count": 7
        }
      ]
    },
    {
      "cell_type": "code",
      "metadata": {
        "id": "ifqD4NX9tDcV",
        "outputId": "fe9b2ebe-2e3f-4f84-c3f3-e71562bbae59",
        "colab": {
          "base_uri": "https://localhost:8080/"
        }
      },
      "source": [
        "df['status'].value_counts()"
      ],
      "execution_count": 8,
      "outputs": [
        {
          "output_type": "execute_result",
          "data": {
            "text/plain": [
              "single            36014\n",
              "seeing_someone     1354\n",
              "available          1234\n",
              "married             204\n",
              "unknown               3\n",
              "Name: status, dtype: int64"
            ]
          },
          "metadata": {
            "tags": []
          },
          "execution_count": 8
        }
      ]
    },
    {
      "cell_type": "markdown",
      "metadata": {
        "id": "V4ftP8Trwta8"
      },
      "source": [
        "Pequeño dataset de prueba para algunas explicaciones y para las figuras en las diapositivas\n"
      ]
    },
    {
      "cell_type": "code",
      "metadata": {
        "id": "N6QlcRqsw2mL"
      },
      "source": [
        "df_test = pd.DataFrame({\n",
        "... 'City': ['SF', 'SF', 'SF', 'NYC', 'NYC', 'NYC',\n",
        "... 'Seattle', 'Seattle', 'Seattle'],\n",
        "... 'Rent': [3999, 4000, 4001, 3499, 3500, 3501, 2499, 2500, 2501]\n",
        "... })"
      ],
      "execution_count": 9,
      "outputs": []
    },
    {
      "cell_type": "code",
      "metadata": {
        "id": "QIJZ13cvw2mL",
        "outputId": "4bd99596-0477-42b9-ddee-3a8a17b903d5",
        "colab": {
          "base_uri": "https://localhost:8080/",
          "height": 317
        }
      },
      "source": [
        "df_test"
      ],
      "execution_count": 10,
      "outputs": [
        {
          "output_type": "execute_result",
          "data": {
            "text/html": [
              "<div>\n",
              "<style scoped>\n",
              "    .dataframe tbody tr th:only-of-type {\n",
              "        vertical-align: middle;\n",
              "    }\n",
              "\n",
              "    .dataframe tbody tr th {\n",
              "        vertical-align: top;\n",
              "    }\n",
              "\n",
              "    .dataframe thead th {\n",
              "        text-align: right;\n",
              "    }\n",
              "</style>\n",
              "<table border=\"1\" class=\"dataframe\">\n",
              "  <thead>\n",
              "    <tr style=\"text-align: right;\">\n",
              "      <th></th>\n",
              "      <th>City</th>\n",
              "      <th>Rent</th>\n",
              "    </tr>\n",
              "  </thead>\n",
              "  <tbody>\n",
              "    <tr>\n",
              "      <th>0</th>\n",
              "      <td>SF</td>\n",
              "      <td>3999</td>\n",
              "    </tr>\n",
              "    <tr>\n",
              "      <th>1</th>\n",
              "      <td>SF</td>\n",
              "      <td>4000</td>\n",
              "    </tr>\n",
              "    <tr>\n",
              "      <th>2</th>\n",
              "      <td>SF</td>\n",
              "      <td>4001</td>\n",
              "    </tr>\n",
              "    <tr>\n",
              "      <th>3</th>\n",
              "      <td>NYC</td>\n",
              "      <td>3499</td>\n",
              "    </tr>\n",
              "    <tr>\n",
              "      <th>4</th>\n",
              "      <td>NYC</td>\n",
              "      <td>3500</td>\n",
              "    </tr>\n",
              "    <tr>\n",
              "      <th>5</th>\n",
              "      <td>NYC</td>\n",
              "      <td>3501</td>\n",
              "    </tr>\n",
              "    <tr>\n",
              "      <th>6</th>\n",
              "      <td>Seattle</td>\n",
              "      <td>2499</td>\n",
              "    </tr>\n",
              "    <tr>\n",
              "      <th>7</th>\n",
              "      <td>Seattle</td>\n",
              "      <td>2500</td>\n",
              "    </tr>\n",
              "    <tr>\n",
              "      <th>8</th>\n",
              "      <td>Seattle</td>\n",
              "      <td>2501</td>\n",
              "    </tr>\n",
              "  </tbody>\n",
              "</table>\n",
              "</div>"
            ],
            "text/plain": [
              "      City  Rent\n",
              "0       SF  3999\n",
              "1       SF  4000\n",
              "2       SF  4001\n",
              "3      NYC  3499\n",
              "4      NYC  3500\n",
              "5      NYC  3501\n",
              "6  Seattle  2499\n",
              "7  Seattle  2500\n",
              "8  Seattle  2501"
            ]
          },
          "metadata": {
            "tags": []
          },
          "execution_count": 10
        }
      ]
    },
    {
      "cell_type": "markdown",
      "metadata": {
        "id": "4pKFtLouXfG4"
      },
      "source": [
        "Para esta hoja de trabajo vamos a utilizar la librería [category_encoders](http://contrib.scikit-learn.org/category_encoders/index.html), la cual es compatible con scikit-learn."
      ]
    },
    {
      "cell_type": "code",
      "metadata": {
        "id": "6TJXc11RIOG5",
        "outputId": "b515be9f-2c10-467d-9ebf-6866baa3ce49",
        "colab": {
          "base_uri": "https://localhost:8080/"
        }
      },
      "source": [
        "!pip install category_encoders"
      ],
      "execution_count": 11,
      "outputs": [
        {
          "output_type": "stream",
          "text": [
            "Collecting category_encoders\n",
            "\u001b[?25l  Downloading https://files.pythonhosted.org/packages/44/57/fcef41c248701ee62e8325026b90c432adea35555cbc870aff9cfba23727/category_encoders-2.2.2-py2.py3-none-any.whl (80kB)\n",
            "\r\u001b[K     |████                            | 10kB 10.5MB/s eta 0:00:01\r\u001b[K     |████████▏                       | 20kB 16.5MB/s eta 0:00:01\r\u001b[K     |████████████▏                   | 30kB 21.5MB/s eta 0:00:01\r\u001b[K     |████████████████▎               | 40kB 25.7MB/s eta 0:00:01\r\u001b[K     |████████████████████▎           | 51kB 13.1MB/s eta 0:00:01\r\u001b[K     |████████████████████████▍       | 61kB 12.4MB/s eta 0:00:01\r\u001b[K     |████████████████████████████▍   | 71kB 13.6MB/s eta 0:00:01\r\u001b[K     |████████████████████████████████| 81kB 4.5MB/s \n",
            "\u001b[?25hRequirement already satisfied: scikit-learn>=0.20.0 in /usr/local/lib/python3.7/dist-packages (from category_encoders) (0.22.2.post1)\n",
            "Requirement already satisfied: patsy>=0.5.1 in /usr/local/lib/python3.7/dist-packages (from category_encoders) (0.5.1)\n",
            "Requirement already satisfied: statsmodels>=0.9.0 in /usr/local/lib/python3.7/dist-packages (from category_encoders) (0.10.2)\n",
            "Requirement already satisfied: pandas>=0.21.1 in /usr/local/lib/python3.7/dist-packages (from category_encoders) (1.1.5)\n",
            "Requirement already satisfied: scipy>=1.0.0 in /usr/local/lib/python3.7/dist-packages (from category_encoders) (1.4.1)\n",
            "Requirement already satisfied: numpy>=1.14.0 in /usr/local/lib/python3.7/dist-packages (from category_encoders) (1.19.5)\n",
            "Requirement already satisfied: joblib>=0.11 in /usr/local/lib/python3.7/dist-packages (from scikit-learn>=0.20.0->category_encoders) (1.0.1)\n",
            "Requirement already satisfied: six in /usr/local/lib/python3.7/dist-packages (from patsy>=0.5.1->category_encoders) (1.15.0)\n",
            "Requirement already satisfied: pytz>=2017.2 in /usr/local/lib/python3.7/dist-packages (from pandas>=0.21.1->category_encoders) (2018.9)\n",
            "Requirement already satisfied: python-dateutil>=2.7.3 in /usr/local/lib/python3.7/dist-packages (from pandas>=0.21.1->category_encoders) (2.8.1)\n",
            "Installing collected packages: category-encoders\n",
            "Successfully installed category-encoders-2.2.2\n"
          ],
          "name": "stdout"
        }
      ]
    },
    {
      "cell_type": "code",
      "metadata": {
        "id": "o9jm8j4vpUR7"
      },
      "source": [
        "col = 'drinks'"
      ],
      "execution_count": 13,
      "outputs": []
    },
    {
      "cell_type": "markdown",
      "metadata": {
        "id": "bHbRN1o_U55I"
      },
      "source": [
        "# Unsupervised Encoders"
      ]
    },
    {
      "cell_type": "markdown",
      "metadata": {
        "id": "hXMSUeFtVAIB"
      },
      "source": [
        "## Classic Encoders"
      ]
    },
    {
      "cell_type": "markdown",
      "metadata": {
        "id": "oEFMQtldVDTw"
      },
      "source": [
        "### One-Hot Encoder"
      ]
    },
    {
      "cell_type": "code",
      "metadata": {
        "id": "8r2rOg4itiwb"
      },
      "source": [
        "from category_encoders import OneHotEncoder"
      ],
      "execution_count": 14,
      "outputs": []
    },
    {
      "cell_type": "code",
      "metadata": {
        "id": "rWY_1O6FXsdz"
      },
      "source": [
        "onehot_enc = OneHotEncoder (use_cat_names=True)"
      ],
      "execution_count": 15,
      "outputs": []
    },
    {
      "cell_type": "code",
      "metadata": {
        "id": "rzUCMjPYXsgm",
        "outputId": "8416ad65-42c5-4962-e148-c41f2826bd44",
        "colab": {
          "base_uri": "https://localhost:8080/",
          "height": 477
        }
      },
      "source": [
        "onehot_enc.fit_transform(df[[col]])"
      ],
      "execution_count": 16,
      "outputs": [
        {
          "output_type": "stream",
          "text": [
            "/usr/local/lib/python3.7/dist-packages/category_encoders/utils.py:21: FutureWarning:\n",
            "\n",
            "is_categorical is deprecated and will be removed in a future version.  Use is_categorical_dtype instead\n",
            "\n"
          ],
          "name": "stderr"
        },
        {
          "output_type": "execute_result",
          "data": {
            "text/html": [
              "<div>\n",
              "<style scoped>\n",
              "    .dataframe tbody tr th:only-of-type {\n",
              "        vertical-align: middle;\n",
              "    }\n",
              "\n",
              "    .dataframe tbody tr th {\n",
              "        vertical-align: top;\n",
              "    }\n",
              "\n",
              "    .dataframe thead th {\n",
              "        text-align: right;\n",
              "    }\n",
              "</style>\n",
              "<table border=\"1\" class=\"dataframe\">\n",
              "  <thead>\n",
              "    <tr style=\"text-align: right;\">\n",
              "      <th></th>\n",
              "      <th>drinks_socially</th>\n",
              "      <th>drinks_not_at_all</th>\n",
              "      <th>drinks_rarely</th>\n",
              "      <th>drinks_often</th>\n",
              "      <th>drinks_drinks_missing</th>\n",
              "      <th>drinks_very_often</th>\n",
              "      <th>drinks_desperately</th>\n",
              "    </tr>\n",
              "  </thead>\n",
              "  <tbody>\n",
              "    <tr>\n",
              "      <th>1</th>\n",
              "      <td>1</td>\n",
              "      <td>0</td>\n",
              "      <td>0</td>\n",
              "      <td>0</td>\n",
              "      <td>0</td>\n",
              "      <td>0</td>\n",
              "      <td>0</td>\n",
              "    </tr>\n",
              "    <tr>\n",
              "      <th>4</th>\n",
              "      <td>1</td>\n",
              "      <td>0</td>\n",
              "      <td>0</td>\n",
              "      <td>0</td>\n",
              "      <td>0</td>\n",
              "      <td>0</td>\n",
              "      <td>0</td>\n",
              "    </tr>\n",
              "    <tr>\n",
              "      <th>6</th>\n",
              "      <td>1</td>\n",
              "      <td>0</td>\n",
              "      <td>0</td>\n",
              "      <td>0</td>\n",
              "      <td>0</td>\n",
              "      <td>0</td>\n",
              "      <td>0</td>\n",
              "    </tr>\n",
              "    <tr>\n",
              "      <th>8</th>\n",
              "      <td>1</td>\n",
              "      <td>0</td>\n",
              "      <td>0</td>\n",
              "      <td>0</td>\n",
              "      <td>0</td>\n",
              "      <td>0</td>\n",
              "      <td>0</td>\n",
              "    </tr>\n",
              "    <tr>\n",
              "      <th>10</th>\n",
              "      <td>0</td>\n",
              "      <td>1</td>\n",
              "      <td>0</td>\n",
              "      <td>0</td>\n",
              "      <td>0</td>\n",
              "      <td>0</td>\n",
              "      <td>0</td>\n",
              "    </tr>\n",
              "    <tr>\n",
              "      <th>...</th>\n",
              "      <td>...</td>\n",
              "      <td>...</td>\n",
              "      <td>...</td>\n",
              "      <td>...</td>\n",
              "      <td>...</td>\n",
              "      <td>...</td>\n",
              "      <td>...</td>\n",
              "    </tr>\n",
              "    <tr>\n",
              "      <th>59940</th>\n",
              "      <td>1</td>\n",
              "      <td>0</td>\n",
              "      <td>0</td>\n",
              "      <td>0</td>\n",
              "      <td>0</td>\n",
              "      <td>0</td>\n",
              "      <td>0</td>\n",
              "    </tr>\n",
              "    <tr>\n",
              "      <th>59943</th>\n",
              "      <td>0</td>\n",
              "      <td>0</td>\n",
              "      <td>0</td>\n",
              "      <td>1</td>\n",
              "      <td>0</td>\n",
              "      <td>0</td>\n",
              "      <td>0</td>\n",
              "    </tr>\n",
              "    <tr>\n",
              "      <th>59944</th>\n",
              "      <td>0</td>\n",
              "      <td>1</td>\n",
              "      <td>0</td>\n",
              "      <td>0</td>\n",
              "      <td>0</td>\n",
              "      <td>0</td>\n",
              "      <td>0</td>\n",
              "    </tr>\n",
              "    <tr>\n",
              "      <th>59945</th>\n",
              "      <td>1</td>\n",
              "      <td>0</td>\n",
              "      <td>0</td>\n",
              "      <td>0</td>\n",
              "      <td>0</td>\n",
              "      <td>0</td>\n",
              "      <td>0</td>\n",
              "    </tr>\n",
              "    <tr>\n",
              "      <th>59946</th>\n",
              "      <td>1</td>\n",
              "      <td>0</td>\n",
              "      <td>0</td>\n",
              "      <td>0</td>\n",
              "      <td>0</td>\n",
              "      <td>0</td>\n",
              "      <td>0</td>\n",
              "    </tr>\n",
              "  </tbody>\n",
              "</table>\n",
              "<p>38809 rows × 7 columns</p>\n",
              "</div>"
            ],
            "text/plain": [
              "       drinks_socially  ...  drinks_desperately\n",
              "1                    1  ...                   0\n",
              "4                    1  ...                   0\n",
              "6                    1  ...                   0\n",
              "8                    1  ...                   0\n",
              "10                   0  ...                   0\n",
              "...                ...  ...                 ...\n",
              "59940                1  ...                   0\n",
              "59943                0  ...                   0\n",
              "59944                0  ...                   0\n",
              "59945                1  ...                   0\n",
              "59946                1  ...                   0\n",
              "\n",
              "[38809 rows x 7 columns]"
            ]
          },
          "metadata": {
            "tags": []
          },
          "execution_count": 16
        }
      ]
    },
    {
      "cell_type": "code",
      "metadata": {
        "id": "hgHI22ILXsjd",
        "outputId": "12e8e145-5495-46a7-8a67-2611db72c82b",
        "colab": {
          "base_uri": "https://localhost:8080/",
          "height": 317
        }
      },
      "source": [
        "onehot_enc.mapping[0]['mapping']"
      ],
      "execution_count": 21,
      "outputs": [
        {
          "output_type": "execute_result",
          "data": {
            "text/html": [
              "<div>\n",
              "<style scoped>\n",
              "    .dataframe tbody tr th:only-of-type {\n",
              "        vertical-align: middle;\n",
              "    }\n",
              "\n",
              "    .dataframe tbody tr th {\n",
              "        vertical-align: top;\n",
              "    }\n",
              "\n",
              "    .dataframe thead th {\n",
              "        text-align: right;\n",
              "    }\n",
              "</style>\n",
              "<table border=\"1\" class=\"dataframe\">\n",
              "  <thead>\n",
              "    <tr style=\"text-align: right;\">\n",
              "      <th></th>\n",
              "      <th>drinks_socially</th>\n",
              "      <th>drinks_not_at_all</th>\n",
              "      <th>drinks_rarely</th>\n",
              "      <th>drinks_often</th>\n",
              "      <th>drinks_drinks_missing</th>\n",
              "      <th>drinks_very_often</th>\n",
              "      <th>drinks_desperately</th>\n",
              "    </tr>\n",
              "  </thead>\n",
              "  <tbody>\n",
              "    <tr>\n",
              "      <th>1</th>\n",
              "      <td>1</td>\n",
              "      <td>0</td>\n",
              "      <td>0</td>\n",
              "      <td>0</td>\n",
              "      <td>0</td>\n",
              "      <td>0</td>\n",
              "      <td>0</td>\n",
              "    </tr>\n",
              "    <tr>\n",
              "      <th>2</th>\n",
              "      <td>0</td>\n",
              "      <td>1</td>\n",
              "      <td>0</td>\n",
              "      <td>0</td>\n",
              "      <td>0</td>\n",
              "      <td>0</td>\n",
              "      <td>0</td>\n",
              "    </tr>\n",
              "    <tr>\n",
              "      <th>3</th>\n",
              "      <td>0</td>\n",
              "      <td>0</td>\n",
              "      <td>1</td>\n",
              "      <td>0</td>\n",
              "      <td>0</td>\n",
              "      <td>0</td>\n",
              "      <td>0</td>\n",
              "    </tr>\n",
              "    <tr>\n",
              "      <th>4</th>\n",
              "      <td>0</td>\n",
              "      <td>0</td>\n",
              "      <td>0</td>\n",
              "      <td>1</td>\n",
              "      <td>0</td>\n",
              "      <td>0</td>\n",
              "      <td>0</td>\n",
              "    </tr>\n",
              "    <tr>\n",
              "      <th>5</th>\n",
              "      <td>0</td>\n",
              "      <td>0</td>\n",
              "      <td>0</td>\n",
              "      <td>0</td>\n",
              "      <td>1</td>\n",
              "      <td>0</td>\n",
              "      <td>0</td>\n",
              "    </tr>\n",
              "    <tr>\n",
              "      <th>6</th>\n",
              "      <td>0</td>\n",
              "      <td>0</td>\n",
              "      <td>0</td>\n",
              "      <td>0</td>\n",
              "      <td>0</td>\n",
              "      <td>1</td>\n",
              "      <td>0</td>\n",
              "    </tr>\n",
              "    <tr>\n",
              "      <th>7</th>\n",
              "      <td>0</td>\n",
              "      <td>0</td>\n",
              "      <td>0</td>\n",
              "      <td>0</td>\n",
              "      <td>0</td>\n",
              "      <td>0</td>\n",
              "      <td>1</td>\n",
              "    </tr>\n",
              "    <tr>\n",
              "      <th>-1</th>\n",
              "      <td>0</td>\n",
              "      <td>0</td>\n",
              "      <td>0</td>\n",
              "      <td>0</td>\n",
              "      <td>0</td>\n",
              "      <td>0</td>\n",
              "      <td>0</td>\n",
              "    </tr>\n",
              "    <tr>\n",
              "      <th>-2</th>\n",
              "      <td>0</td>\n",
              "      <td>0</td>\n",
              "      <td>0</td>\n",
              "      <td>0</td>\n",
              "      <td>0</td>\n",
              "      <td>0</td>\n",
              "      <td>0</td>\n",
              "    </tr>\n",
              "  </tbody>\n",
              "</table>\n",
              "</div>"
            ],
            "text/plain": [
              "    drinks_socially  drinks_not_at_all  ...  drinks_very_often  drinks_desperately\n",
              " 1                1                  0  ...                  0                   0\n",
              " 2                0                  1  ...                  0                   0\n",
              " 3                0                  0  ...                  0                   0\n",
              " 4                0                  0  ...                  0                   0\n",
              " 5                0                  0  ...                  0                   0\n",
              " 6                0                  0  ...                  1                   0\n",
              " 7                0                  0  ...                  0                   1\n",
              "-1                0                  0  ...                  0                   0\n",
              "-2                0                  0  ...                  0                   0\n",
              "\n",
              "[9 rows x 7 columns]"
            ]
          },
          "metadata": {
            "tags": []
          },
          "execution_count": 21
        }
      ]
    },
    {
      "cell_type": "markdown",
      "metadata": {
        "id": "r28M6q1BVIUP"
      },
      "source": [
        "### Binary Encoder"
      ]
    },
    {
      "cell_type": "code",
      "metadata": {
        "id": "J9SKSr0GXuba"
      },
      "source": [
        "from category_encoders import BinaryEncoder"
      ],
      "execution_count": 17,
      "outputs": []
    },
    {
      "cell_type": "code",
      "metadata": {
        "id": "mBnE7ZayXuei"
      },
      "source": [
        "bin_encoder = BinaryEncoder()"
      ],
      "execution_count": 24,
      "outputs": []
    },
    {
      "cell_type": "code",
      "metadata": {
        "id": "51LIypweXuhW",
        "outputId": "e1d3ab3d-1fdf-489b-c790-49e39c44b859",
        "colab": {
          "base_uri": "https://localhost:8080/",
          "height": 477
        }
      },
      "source": [
        "bin_encoder.fit_transform(df[[col]]) "
      ],
      "execution_count": 20,
      "outputs": [
        {
          "output_type": "stream",
          "text": [
            "/usr/local/lib/python3.7/dist-packages/category_encoders/utils.py:21: FutureWarning:\n",
            "\n",
            "is_categorical is deprecated and will be removed in a future version.  Use is_categorical_dtype instead\n",
            "\n"
          ],
          "name": "stderr"
        },
        {
          "output_type": "execute_result",
          "data": {
            "text/html": [
              "<div>\n",
              "<style scoped>\n",
              "    .dataframe tbody tr th:only-of-type {\n",
              "        vertical-align: middle;\n",
              "    }\n",
              "\n",
              "    .dataframe tbody tr th {\n",
              "        vertical-align: top;\n",
              "    }\n",
              "\n",
              "    .dataframe thead th {\n",
              "        text-align: right;\n",
              "    }\n",
              "</style>\n",
              "<table border=\"1\" class=\"dataframe\">\n",
              "  <thead>\n",
              "    <tr style=\"text-align: right;\">\n",
              "      <th></th>\n",
              "      <th>drinks_0</th>\n",
              "      <th>drinks_1</th>\n",
              "      <th>drinks_2</th>\n",
              "      <th>drinks_3</th>\n",
              "    </tr>\n",
              "  </thead>\n",
              "  <tbody>\n",
              "    <tr>\n",
              "      <th>1</th>\n",
              "      <td>0</td>\n",
              "      <td>0</td>\n",
              "      <td>0</td>\n",
              "      <td>1</td>\n",
              "    </tr>\n",
              "    <tr>\n",
              "      <th>4</th>\n",
              "      <td>0</td>\n",
              "      <td>0</td>\n",
              "      <td>0</td>\n",
              "      <td>1</td>\n",
              "    </tr>\n",
              "    <tr>\n",
              "      <th>6</th>\n",
              "      <td>0</td>\n",
              "      <td>0</td>\n",
              "      <td>0</td>\n",
              "      <td>1</td>\n",
              "    </tr>\n",
              "    <tr>\n",
              "      <th>8</th>\n",
              "      <td>0</td>\n",
              "      <td>0</td>\n",
              "      <td>0</td>\n",
              "      <td>1</td>\n",
              "    </tr>\n",
              "    <tr>\n",
              "      <th>10</th>\n",
              "      <td>0</td>\n",
              "      <td>0</td>\n",
              "      <td>1</td>\n",
              "      <td>0</td>\n",
              "    </tr>\n",
              "    <tr>\n",
              "      <th>...</th>\n",
              "      <td>...</td>\n",
              "      <td>...</td>\n",
              "      <td>...</td>\n",
              "      <td>...</td>\n",
              "    </tr>\n",
              "    <tr>\n",
              "      <th>59940</th>\n",
              "      <td>0</td>\n",
              "      <td>0</td>\n",
              "      <td>0</td>\n",
              "      <td>1</td>\n",
              "    </tr>\n",
              "    <tr>\n",
              "      <th>59943</th>\n",
              "      <td>0</td>\n",
              "      <td>1</td>\n",
              "      <td>0</td>\n",
              "      <td>0</td>\n",
              "    </tr>\n",
              "    <tr>\n",
              "      <th>59944</th>\n",
              "      <td>0</td>\n",
              "      <td>0</td>\n",
              "      <td>1</td>\n",
              "      <td>0</td>\n",
              "    </tr>\n",
              "    <tr>\n",
              "      <th>59945</th>\n",
              "      <td>0</td>\n",
              "      <td>0</td>\n",
              "      <td>0</td>\n",
              "      <td>1</td>\n",
              "    </tr>\n",
              "    <tr>\n",
              "      <th>59946</th>\n",
              "      <td>0</td>\n",
              "      <td>0</td>\n",
              "      <td>0</td>\n",
              "      <td>1</td>\n",
              "    </tr>\n",
              "  </tbody>\n",
              "</table>\n",
              "<p>38809 rows × 4 columns</p>\n",
              "</div>"
            ],
            "text/plain": [
              "       drinks_0  drinks_1  drinks_2  drinks_3\n",
              "1             0         0         0         1\n",
              "4             0         0         0         1\n",
              "6             0         0         0         1\n",
              "8             0         0         0         1\n",
              "10            0         0         1         0\n",
              "...         ...       ...       ...       ...\n",
              "59940         0         0         0         1\n",
              "59943         0         1         0         0\n",
              "59944         0         0         1         0\n",
              "59945         0         0         0         1\n",
              "59946         0         0         0         1\n",
              "\n",
              "[38809 rows x 4 columns]"
            ]
          },
          "metadata": {
            "tags": []
          },
          "execution_count": 20
        }
      ]
    },
    {
      "cell_type": "code",
      "metadata": {
        "id": "QEOi5FuWXuk0"
      },
      "source": [
        "bin_encoder.base_n_encoder.mapping[0]['mapping']"
      ],
      "execution_count": 33,
      "outputs": []
    },
    {
      "cell_type": "markdown",
      "metadata": {
        "id": "isF60gocgLlE"
      },
      "source": [
        "### Frequency or Count Encoder"
      ]
    },
    {
      "cell_type": "code",
      "metadata": {
        "id": "C7WZvDPsXv8y"
      },
      "source": [
        "from category_encoders import CountEncoder  "
      ],
      "execution_count": 34,
      "outputs": []
    },
    {
      "cell_type": "code",
      "metadata": {
        "id": "jRrModnNXv_1"
      },
      "source": [
        "count_enc = CountEncoder()"
      ],
      "execution_count": 35,
      "outputs": []
    },
    {
      "cell_type": "code",
      "metadata": {
        "id": "Og-pdtW5XwC7",
        "outputId": "9e484d20-04ba-48e5-d614-1e92fe530bc7",
        "colab": {
          "base_uri": "https://localhost:8080/",
          "height": 406
        }
      },
      "source": [
        "count_enc.fit_transform(df[[col]]) "
      ],
      "execution_count": 36,
      "outputs": [
        {
          "output_type": "execute_result",
          "data": {
            "text/html": [
              "<div>\n",
              "<style scoped>\n",
              "    .dataframe tbody tr th:only-of-type {\n",
              "        vertical-align: middle;\n",
              "    }\n",
              "\n",
              "    .dataframe tbody tr th {\n",
              "        vertical-align: top;\n",
              "    }\n",
              "\n",
              "    .dataframe thead th {\n",
              "        text-align: right;\n",
              "    }\n",
              "</style>\n",
              "<table border=\"1\" class=\"dataframe\">\n",
              "  <thead>\n",
              "    <tr style=\"text-align: right;\">\n",
              "      <th></th>\n",
              "      <th>drinks</th>\n",
              "    </tr>\n",
              "  </thead>\n",
              "  <tbody>\n",
              "    <tr>\n",
              "      <th>1</th>\n",
              "      <td>27521</td>\n",
              "    </tr>\n",
              "    <tr>\n",
              "      <th>4</th>\n",
              "      <td>27521</td>\n",
              "    </tr>\n",
              "    <tr>\n",
              "      <th>6</th>\n",
              "      <td>27521</td>\n",
              "    </tr>\n",
              "    <tr>\n",
              "      <th>8</th>\n",
              "      <td>27521</td>\n",
              "    </tr>\n",
              "    <tr>\n",
              "      <th>10</th>\n",
              "      <td>2157</td>\n",
              "    </tr>\n",
              "    <tr>\n",
              "      <th>...</th>\n",
              "      <td>...</td>\n",
              "    </tr>\n",
              "    <tr>\n",
              "      <th>59940</th>\n",
              "      <td>27521</td>\n",
              "    </tr>\n",
              "    <tr>\n",
              "      <th>59943</th>\n",
              "      <td>3413</td>\n",
              "    </tr>\n",
              "    <tr>\n",
              "      <th>59944</th>\n",
              "      <td>2157</td>\n",
              "    </tr>\n",
              "    <tr>\n",
              "      <th>59945</th>\n",
              "      <td>27521</td>\n",
              "    </tr>\n",
              "    <tr>\n",
              "      <th>59946</th>\n",
              "      <td>27521</td>\n",
              "    </tr>\n",
              "  </tbody>\n",
              "</table>\n",
              "<p>38809 rows × 1 columns</p>\n",
              "</div>"
            ],
            "text/plain": [
              "       drinks\n",
              "1       27521\n",
              "4       27521\n",
              "6       27521\n",
              "8       27521\n",
              "10       2157\n",
              "...       ...\n",
              "59940   27521\n",
              "59943    3413\n",
              "59944    2157\n",
              "59945   27521\n",
              "59946   27521\n",
              "\n",
              "[38809 rows x 1 columns]"
            ]
          },
          "metadata": {
            "tags": []
          },
          "execution_count": 36
        }
      ]
    },
    {
      "cell_type": "code",
      "metadata": {
        "id": "HcMBEUljL-nQ",
        "outputId": "fa603741-cbf4-4285-9702-60b6e53c4fec",
        "colab": {
          "base_uri": "https://localhost:8080/"
        }
      },
      "source": [
        "count_enc.mapping"
      ],
      "execution_count": 39,
      "outputs": [
        {
          "output_type": "execute_result",
          "data": {
            "text/plain": [
              "{'drinks': socially          27521\n",
              " rarely             3981\n",
              " often              3413\n",
              " not_at_all         2157\n",
              " drinks_missing     1208\n",
              " very_often          319\n",
              " desperately         210\n",
              " Name: drinks, dtype: int64}"
            ]
          },
          "metadata": {
            "tags": []
          },
          "execution_count": 39
        }
      ]
    },
    {
      "cell_type": "code",
      "metadata": {
        "id": "CnW7rQOoMMTj"
      },
      "source": [
        "count_enc1 = CountEncoder(combine_min_nan_groups=True, min_group_size=500, min_group_name='otros', normalize=True)"
      ],
      "execution_count": 44,
      "outputs": []
    },
    {
      "cell_type": "code",
      "metadata": {
        "id": "DT5mvur3MMK9",
        "outputId": "885dc5a9-86f7-4f64-a045-4b6e5605a604",
        "colab": {
          "base_uri": "https://localhost:8080/",
          "height": 406
        }
      },
      "source": [
        "count_enc1.fit_transform(df[[col]]) "
      ],
      "execution_count": 45,
      "outputs": [
        {
          "output_type": "execute_result",
          "data": {
            "text/html": [
              "<div>\n",
              "<style scoped>\n",
              "    .dataframe tbody tr th:only-of-type {\n",
              "        vertical-align: middle;\n",
              "    }\n",
              "\n",
              "    .dataframe tbody tr th {\n",
              "        vertical-align: top;\n",
              "    }\n",
              "\n",
              "    .dataframe thead th {\n",
              "        text-align: right;\n",
              "    }\n",
              "</style>\n",
              "<table border=\"1\" class=\"dataframe\">\n",
              "  <thead>\n",
              "    <tr style=\"text-align: right;\">\n",
              "      <th></th>\n",
              "      <th>drinks</th>\n",
              "    </tr>\n",
              "  </thead>\n",
              "  <tbody>\n",
              "    <tr>\n",
              "      <th>1</th>\n",
              "      <td>0.709140</td>\n",
              "    </tr>\n",
              "    <tr>\n",
              "      <th>4</th>\n",
              "      <td>0.709140</td>\n",
              "    </tr>\n",
              "    <tr>\n",
              "      <th>6</th>\n",
              "      <td>0.709140</td>\n",
              "    </tr>\n",
              "    <tr>\n",
              "      <th>8</th>\n",
              "      <td>0.709140</td>\n",
              "    </tr>\n",
              "    <tr>\n",
              "      <th>10</th>\n",
              "      <td>0.055580</td>\n",
              "    </tr>\n",
              "    <tr>\n",
              "      <th>...</th>\n",
              "      <td>...</td>\n",
              "    </tr>\n",
              "    <tr>\n",
              "      <th>59940</th>\n",
              "      <td>0.709140</td>\n",
              "    </tr>\n",
              "    <tr>\n",
              "      <th>59943</th>\n",
              "      <td>0.087944</td>\n",
              "    </tr>\n",
              "    <tr>\n",
              "      <th>59944</th>\n",
              "      <td>0.055580</td>\n",
              "    </tr>\n",
              "    <tr>\n",
              "      <th>59945</th>\n",
              "      <td>0.709140</td>\n",
              "    </tr>\n",
              "    <tr>\n",
              "      <th>59946</th>\n",
              "      <td>0.709140</td>\n",
              "    </tr>\n",
              "  </tbody>\n",
              "</table>\n",
              "<p>38809 rows × 1 columns</p>\n",
              "</div>"
            ],
            "text/plain": [
              "         drinks\n",
              "1      0.709140\n",
              "4      0.709140\n",
              "6      0.709140\n",
              "8      0.709140\n",
              "10     0.055580\n",
              "...         ...\n",
              "59940  0.709140\n",
              "59943  0.087944\n",
              "59944  0.055580\n",
              "59945  0.709140\n",
              "59946  0.709140\n",
              "\n",
              "[38809 rows x 1 columns]"
            ]
          },
          "metadata": {
            "tags": []
          },
          "execution_count": 45
        }
      ]
    },
    {
      "cell_type": "code",
      "metadata": {
        "id": "1UGsKdtSMMBP",
        "outputId": "11c40c01-88b7-43a2-80cd-d842b2f28be5",
        "colab": {
          "base_uri": "https://localhost:8080/"
        }
      },
      "source": [
        "count_enc1.mapping"
      ],
      "execution_count": 46,
      "outputs": [
        {
          "output_type": "execute_result",
          "data": {
            "text/plain": [
              "{'drinks': socially          0.709140\n",
              " rarely            0.102579\n",
              " often             0.087944\n",
              " not_at_all        0.055580\n",
              " drinks_missing    0.031127\n",
              " otros             0.013631\n",
              " Name: drinks, dtype: float64}"
            ]
          },
          "metadata": {
            "tags": []
          },
          "execution_count": 46
        }
      ]
    },
    {
      "cell_type": "markdown",
      "metadata": {
        "id": "pyS3hX38VOw-"
      },
      "source": [
        "### Ordinal Encoder"
      ]
    },
    {
      "cell_type": "code",
      "metadata": {
        "id": "4IzsvKbQXy4m"
      },
      "source": [
        "from category_encoders import OrdinalEncoder  "
      ],
      "execution_count": 47,
      "outputs": []
    },
    {
      "cell_type": "code",
      "metadata": {
        "id": "MJcZPYbNXy73"
      },
      "source": [
        "ord_encoder = OrdinalEncoder()"
      ],
      "execution_count": 48,
      "outputs": []
    },
    {
      "cell_type": "code",
      "metadata": {
        "id": "n-CuoSmMXy_l",
        "outputId": "d0f6f177-2fcd-4a05-b7bc-cb61532434b6",
        "colab": {
          "base_uri": "https://localhost:8080/",
          "height": 406
        }
      },
      "source": [
        "ord_encoder.fit_transform(df[[col]]) "
      ],
      "execution_count": 49,
      "outputs": [
        {
          "output_type": "execute_result",
          "data": {
            "text/html": [
              "<div>\n",
              "<style scoped>\n",
              "    .dataframe tbody tr th:only-of-type {\n",
              "        vertical-align: middle;\n",
              "    }\n",
              "\n",
              "    .dataframe tbody tr th {\n",
              "        vertical-align: top;\n",
              "    }\n",
              "\n",
              "    .dataframe thead th {\n",
              "        text-align: right;\n",
              "    }\n",
              "</style>\n",
              "<table border=\"1\" class=\"dataframe\">\n",
              "  <thead>\n",
              "    <tr style=\"text-align: right;\">\n",
              "      <th></th>\n",
              "      <th>drinks</th>\n",
              "    </tr>\n",
              "  </thead>\n",
              "  <tbody>\n",
              "    <tr>\n",
              "      <th>1</th>\n",
              "      <td>1</td>\n",
              "    </tr>\n",
              "    <tr>\n",
              "      <th>4</th>\n",
              "      <td>1</td>\n",
              "    </tr>\n",
              "    <tr>\n",
              "      <th>6</th>\n",
              "      <td>1</td>\n",
              "    </tr>\n",
              "    <tr>\n",
              "      <th>8</th>\n",
              "      <td>1</td>\n",
              "    </tr>\n",
              "    <tr>\n",
              "      <th>10</th>\n",
              "      <td>2</td>\n",
              "    </tr>\n",
              "    <tr>\n",
              "      <th>...</th>\n",
              "      <td>...</td>\n",
              "    </tr>\n",
              "    <tr>\n",
              "      <th>59940</th>\n",
              "      <td>1</td>\n",
              "    </tr>\n",
              "    <tr>\n",
              "      <th>59943</th>\n",
              "      <td>4</td>\n",
              "    </tr>\n",
              "    <tr>\n",
              "      <th>59944</th>\n",
              "      <td>2</td>\n",
              "    </tr>\n",
              "    <tr>\n",
              "      <th>59945</th>\n",
              "      <td>1</td>\n",
              "    </tr>\n",
              "    <tr>\n",
              "      <th>59946</th>\n",
              "      <td>1</td>\n",
              "    </tr>\n",
              "  </tbody>\n",
              "</table>\n",
              "<p>38809 rows × 1 columns</p>\n",
              "</div>"
            ],
            "text/plain": [
              "       drinks\n",
              "1           1\n",
              "4           1\n",
              "6           1\n",
              "8           1\n",
              "10          2\n",
              "...       ...\n",
              "59940       1\n",
              "59943       4\n",
              "59944       2\n",
              "59945       1\n",
              "59946       1\n",
              "\n",
              "[38809 rows x 1 columns]"
            ]
          },
          "metadata": {
            "tags": []
          },
          "execution_count": 49
        }
      ]
    },
    {
      "cell_type": "code",
      "metadata": {
        "id": "-sh7kDdtXzDF",
        "outputId": "9302571f-ceca-4064-ced2-e0e48b433e43",
        "colab": {
          "base_uri": "https://localhost:8080/"
        }
      },
      "source": [
        "ord_encoder.mapping[0]['mapping']"
      ],
      "execution_count": 51,
      "outputs": [
        {
          "output_type": "execute_result",
          "data": {
            "text/plain": [
              "socially          1\n",
              "not_at_all        2\n",
              "rarely            3\n",
              "often             4\n",
              "drinks_missing    5\n",
              "very_often        6\n",
              "desperately       7\n",
              "NaN              -2\n",
              "dtype: int64"
            ]
          },
          "metadata": {
            "tags": []
          },
          "execution_count": 51
        }
      ]
    },
    {
      "cell_type": "code",
      "metadata": {
        "id": "BSRv--wCPPXX"
      },
      "source": [
        "drink_dict = {None :0 , 'not_at_all':1 ,'rarely':2 ,'socially':3 ,'often':4 ,'very_often':5 ,'desperately':6, 'drinks_missing':-1}\n",
        "col_drink_dict = {'col':'drinks', 'mapping':drink_dict}"
      ],
      "execution_count": 53,
      "outputs": []
    },
    {
      "cell_type": "code",
      "metadata": {
        "id": "W7kD89nhPPPG"
      },
      "source": [
        "ord_enc = OrdinalEncoder(mapping=[col_drink_dict])"
      ],
      "execution_count": 54,
      "outputs": []
    },
    {
      "cell_type": "code",
      "metadata": {
        "id": "kXY5NyUjQ6PU",
        "outputId": "b14f7587-5371-4ff7-d0c8-672006439219",
        "colab": {
          "base_uri": "https://localhost:8080/",
          "height": 477
        }
      },
      "source": [
        "ord_enc.fit_transform(df[col],) "
      ],
      "execution_count": 56,
      "outputs": [
        {
          "output_type": "stream",
          "text": [
            "/usr/local/lib/python3.7/dist-packages/category_encoders/utils.py:21: FutureWarning:\n",
            "\n",
            "is_categorical is deprecated and will be removed in a future version.  Use is_categorical_dtype instead\n",
            "\n"
          ],
          "name": "stderr"
        },
        {
          "output_type": "execute_result",
          "data": {
            "text/html": [
              "<div>\n",
              "<style scoped>\n",
              "    .dataframe tbody tr th:only-of-type {\n",
              "        vertical-align: middle;\n",
              "    }\n",
              "\n",
              "    .dataframe tbody tr th {\n",
              "        vertical-align: top;\n",
              "    }\n",
              "\n",
              "    .dataframe thead th {\n",
              "        text-align: right;\n",
              "    }\n",
              "</style>\n",
              "<table border=\"1\" class=\"dataframe\">\n",
              "  <thead>\n",
              "    <tr style=\"text-align: right;\">\n",
              "      <th></th>\n",
              "      <th>drinks</th>\n",
              "    </tr>\n",
              "  </thead>\n",
              "  <tbody>\n",
              "    <tr>\n",
              "      <th>1</th>\n",
              "      <td>3</td>\n",
              "    </tr>\n",
              "    <tr>\n",
              "      <th>4</th>\n",
              "      <td>3</td>\n",
              "    </tr>\n",
              "    <tr>\n",
              "      <th>6</th>\n",
              "      <td>3</td>\n",
              "    </tr>\n",
              "    <tr>\n",
              "      <th>8</th>\n",
              "      <td>3</td>\n",
              "    </tr>\n",
              "    <tr>\n",
              "      <th>10</th>\n",
              "      <td>1</td>\n",
              "    </tr>\n",
              "    <tr>\n",
              "      <th>...</th>\n",
              "      <td>...</td>\n",
              "    </tr>\n",
              "    <tr>\n",
              "      <th>59940</th>\n",
              "      <td>3</td>\n",
              "    </tr>\n",
              "    <tr>\n",
              "      <th>59943</th>\n",
              "      <td>4</td>\n",
              "    </tr>\n",
              "    <tr>\n",
              "      <th>59944</th>\n",
              "      <td>1</td>\n",
              "    </tr>\n",
              "    <tr>\n",
              "      <th>59945</th>\n",
              "      <td>3</td>\n",
              "    </tr>\n",
              "    <tr>\n",
              "      <th>59946</th>\n",
              "      <td>3</td>\n",
              "    </tr>\n",
              "  </tbody>\n",
              "</table>\n",
              "<p>38809 rows × 1 columns</p>\n",
              "</div>"
            ],
            "text/plain": [
              "       drinks\n",
              "1           3\n",
              "4           3\n",
              "6           3\n",
              "8           3\n",
              "10          1\n",
              "...       ...\n",
              "59940       3\n",
              "59943       4\n",
              "59944       1\n",
              "59945       3\n",
              "59946       3\n",
              "\n",
              "[38809 rows x 1 columns]"
            ]
          },
          "metadata": {
            "tags": []
          },
          "execution_count": 56
        }
      ]
    },
    {
      "cell_type": "code",
      "metadata": {
        "id": "ndgyJRuaQ5he",
        "outputId": "ac9ad2a6-4f92-4588-cdf5-57566e37ac9c",
        "colab": {
          "base_uri": "https://localhost:8080/"
        }
      },
      "source": [
        "ord_enc.mapping[0]['mapping']"
      ],
      "execution_count": 57,
      "outputs": [
        {
          "output_type": "execute_result",
          "data": {
            "text/plain": [
              "{None: 0,\n",
              " 'desperately': 6,\n",
              " 'drinks_missing': -1,\n",
              " 'not_at_all': 1,\n",
              " 'often': 4,\n",
              " 'rarely': 2,\n",
              " 'socially': 3,\n",
              " 'very_often': 5}"
            ]
          },
          "metadata": {
            "tags": []
          },
          "execution_count": 57
        }
      ]
    },
    {
      "cell_type": "markdown",
      "metadata": {
        "id": "eHZC45GYmrU4"
      },
      "source": [
        "###Feature Hashing"
      ]
    },
    {
      "cell_type": "code",
      "metadata": {
        "id": "ZJept757X3_W"
      },
      "source": [
        "from sklearn.feature_extraction import FeatureHasher"
      ],
      "execution_count": 59,
      "outputs": []
    },
    {
      "cell_type": "code",
      "metadata": {
        "id": "Lk895wE3aL1p"
      },
      "source": [
        "col = 'where_town'"
      ],
      "execution_count": 60,
      "outputs": []
    },
    {
      "cell_type": "code",
      "metadata": {
        "id": "e6hkQzr-aQnG",
        "outputId": "4b137799-0aea-4c9f-f9d9-ffe65a13badb",
        "colab": {
          "base_uri": "https://localhost:8080/"
        }
      },
      "source": [
        "df[col].describe()"
      ],
      "execution_count": 61,
      "outputs": [
        {
          "output_type": "execute_result",
          "data": {
            "text/plain": [
              "count             38809\n",
              "unique               51\n",
              "top       san_francisco\n",
              "freq              20028\n",
              "Name: where_town, dtype: object"
            ]
          },
          "metadata": {
            "tags": []
          },
          "execution_count": 61
        }
      ]
    },
    {
      "cell_type": "code",
      "metadata": {
        "id": "WJ1NIgzHX4CY"
      },
      "source": [
        "hash = FeatureHasher(n_features=8, input_type='string', alternate_sign=True)"
      ],
      "execution_count": 72,
      "outputs": []
    },
    {
      "cell_type": "code",
      "metadata": {
        "id": "4oGoKyENX4FM"
      },
      "source": [
        "hashed_features = hash.fit_transform(df[col])"
      ],
      "execution_count": 73,
      "outputs": []
    },
    {
      "cell_type": "code",
      "metadata": {
        "id": "kO56_q6bX4IR",
        "outputId": "e67ed156-d505-45ae-9b06-667a6efad709",
        "colab": {
          "base_uri": "https://localhost:8080/"
        }
      },
      "source": [
        "hashed_features.toarray()"
      ],
      "execution_count": 74,
      "outputs": [
        {
          "output_type": "execute_result",
          "data": {
            "text/plain": [
              "array([[ 1., -1.,  2., ..., -2.,  0., -3.],\n",
              "       [ 0.,  1.,  0., ..., -1.,  1.,  2.],\n",
              "       [ 0., -1.,  2., ..., -1.,  0., -2.],\n",
              "       ...,\n",
              "       [ 1., -1.,  2., ..., -2.,  0., -3.],\n",
              "       [ 0., -1.,  2., ..., -1.,  0., -2.],\n",
              "       [ 0., -1.,  2., ..., -1.,  0., -2.]])"
            ]
          },
          "metadata": {
            "tags": []
          },
          "execution_count": 74
        }
      ]
    },
    {
      "cell_type": "code",
      "metadata": {
        "id": "Q5YRg_z6bK9W"
      },
      "source": [
        "np_hashed = np.array(hashed_features.todense())"
      ],
      "execution_count": 75,
      "outputs": []
    },
    {
      "cell_type": "code",
      "metadata": {
        "id": "5F0R9bqrX4K1",
        "outputId": "7896567f-486a-4869-e188-02b4271d77db",
        "colab": {
          "base_uri": "https://localhost:8080/"
        }
      },
      "source": [
        "np.unique(np_hashed,axis=0).shape"
      ],
      "execution_count": 76,
      "outputs": [
        {
          "output_type": "execute_result",
          "data": {
            "text/plain": [
              "(50, 8)"
            ]
          },
          "metadata": {
            "tags": []
          },
          "execution_count": 76
        }
      ]
    },
    {
      "cell_type": "code",
      "metadata": {
        "id": "Zq5i86hOX4Nu"
      },
      "source": [
        "from sys import getsizeof"
      ],
      "execution_count": 77,
      "outputs": []
    },
    {
      "cell_type": "code",
      "metadata": {
        "id": "n1qwGgXqX4Ql",
        "outputId": "fa756a54-3133-4477-8f42-3e871ae569e0",
        "colab": {
          "base_uri": "https://localhost:8080/"
        }
      },
      "source": [
        "print('Our pandas Series , in bytes: ',getsizeof(df[[col]]))\n",
        "print('Our hased numpy array, in bytes: ',getsizeof(hashed_features))"
      ],
      "execution_count": 78,
      "outputs": [
        {
          "output_type": "stream",
          "text": [
            "Our pandas Series , in bytes:  2944494\n",
            "Our hased numpy array, in bytes:  64\n"
          ],
          "name": "stdout"
        }
      ]
    },
    {
      "cell_type": "markdown",
      "metadata": {
        "id": "XwPydEygVR9-"
      },
      "source": [
        "## Contrast Encoders"
      ]
    },
    {
      "cell_type": "markdown",
      "metadata": {
        "id": "_DT_jGMCXvnz"
      },
      "source": [
        "### Diferencia entre One-hot Encoding y Dummy Coding"
      ]
    },
    {
      "cell_type": "code",
      "metadata": {
        "id": "Ak7cow2KX6kT",
        "outputId": "170303fd-0c7c-4afb-f9a1-0c37a8bc0281",
        "colab": {
          "base_uri": "https://localhost:8080/",
          "height": 317
        }
      },
      "source": [
        "df_test"
      ],
      "execution_count": 79,
      "outputs": [
        {
          "output_type": "execute_result",
          "data": {
            "text/html": [
              "<div>\n",
              "<style scoped>\n",
              "    .dataframe tbody tr th:only-of-type {\n",
              "        vertical-align: middle;\n",
              "    }\n",
              "\n",
              "    .dataframe tbody tr th {\n",
              "        vertical-align: top;\n",
              "    }\n",
              "\n",
              "    .dataframe thead th {\n",
              "        text-align: right;\n",
              "    }\n",
              "</style>\n",
              "<table border=\"1\" class=\"dataframe\">\n",
              "  <thead>\n",
              "    <tr style=\"text-align: right;\">\n",
              "      <th></th>\n",
              "      <th>City</th>\n",
              "      <th>Rent</th>\n",
              "    </tr>\n",
              "  </thead>\n",
              "  <tbody>\n",
              "    <tr>\n",
              "      <th>0</th>\n",
              "      <td>SF</td>\n",
              "      <td>3999</td>\n",
              "    </tr>\n",
              "    <tr>\n",
              "      <th>1</th>\n",
              "      <td>SF</td>\n",
              "      <td>4000</td>\n",
              "    </tr>\n",
              "    <tr>\n",
              "      <th>2</th>\n",
              "      <td>SF</td>\n",
              "      <td>4001</td>\n",
              "    </tr>\n",
              "    <tr>\n",
              "      <th>3</th>\n",
              "      <td>NYC</td>\n",
              "      <td>3499</td>\n",
              "    </tr>\n",
              "    <tr>\n",
              "      <th>4</th>\n",
              "      <td>NYC</td>\n",
              "      <td>3500</td>\n",
              "    </tr>\n",
              "    <tr>\n",
              "      <th>5</th>\n",
              "      <td>NYC</td>\n",
              "      <td>3501</td>\n",
              "    </tr>\n",
              "    <tr>\n",
              "      <th>6</th>\n",
              "      <td>Seattle</td>\n",
              "      <td>2499</td>\n",
              "    </tr>\n",
              "    <tr>\n",
              "      <th>7</th>\n",
              "      <td>Seattle</td>\n",
              "      <td>2500</td>\n",
              "    </tr>\n",
              "    <tr>\n",
              "      <th>8</th>\n",
              "      <td>Seattle</td>\n",
              "      <td>2501</td>\n",
              "    </tr>\n",
              "  </tbody>\n",
              "</table>\n",
              "</div>"
            ],
            "text/plain": [
              "      City  Rent\n",
              "0       SF  3999\n",
              "1       SF  4000\n",
              "2       SF  4001\n",
              "3      NYC  3499\n",
              "4      NYC  3500\n",
              "5      NYC  3501\n",
              "6  Seattle  2499\n",
              "7  Seattle  2500\n",
              "8  Seattle  2501"
            ]
          },
          "metadata": {
            "tags": []
          },
          "execution_count": 79
        }
      ]
    },
    {
      "cell_type": "code",
      "metadata": {
        "id": "92GslRUUX6no",
        "outputId": "b49d210b-8cbb-4ced-d3c9-64577c613c0b",
        "colab": {
          "base_uri": "https://localhost:8080/"
        }
      },
      "source": [
        "print('Global mean: ', df_test['Rent'].mean())\n",
        "print(df_test.groupby('City').mean())"
      ],
      "execution_count": 80,
      "outputs": [
        {
          "output_type": "stream",
          "text": [
            "Global mean:  3333.3333333333335\n",
            "         Rent\n",
            "City         \n",
            "NYC      3500\n",
            "SF       4000\n",
            "Seattle  2500\n"
          ],
          "name": "stdout"
        }
      ]
    },
    {
      "cell_type": "code",
      "metadata": {
        "id": "GTGYs3y2X6rB"
      },
      "source": [
        "one_hot_df = pd.get_dummies(df_test, prefix=['city'])"
      ],
      "execution_count": 81,
      "outputs": []
    },
    {
      "cell_type": "code",
      "metadata": {
        "id": "fUINT8B9X6t4",
        "outputId": "73642b9a-47e5-4bf6-d0ef-798ce0fb4bbf",
        "colab": {
          "base_uri": "https://localhost:8080/",
          "height": 317
        }
      },
      "source": [
        "one_hot_df"
      ],
      "execution_count": 82,
      "outputs": [
        {
          "output_type": "execute_result",
          "data": {
            "text/html": [
              "<div>\n",
              "<style scoped>\n",
              "    .dataframe tbody tr th:only-of-type {\n",
              "        vertical-align: middle;\n",
              "    }\n",
              "\n",
              "    .dataframe tbody tr th {\n",
              "        vertical-align: top;\n",
              "    }\n",
              "\n",
              "    .dataframe thead th {\n",
              "        text-align: right;\n",
              "    }\n",
              "</style>\n",
              "<table border=\"1\" class=\"dataframe\">\n",
              "  <thead>\n",
              "    <tr style=\"text-align: right;\">\n",
              "      <th></th>\n",
              "      <th>Rent</th>\n",
              "      <th>city_NYC</th>\n",
              "      <th>city_SF</th>\n",
              "      <th>city_Seattle</th>\n",
              "    </tr>\n",
              "  </thead>\n",
              "  <tbody>\n",
              "    <tr>\n",
              "      <th>0</th>\n",
              "      <td>3999</td>\n",
              "      <td>0</td>\n",
              "      <td>1</td>\n",
              "      <td>0</td>\n",
              "    </tr>\n",
              "    <tr>\n",
              "      <th>1</th>\n",
              "      <td>4000</td>\n",
              "      <td>0</td>\n",
              "      <td>1</td>\n",
              "      <td>0</td>\n",
              "    </tr>\n",
              "    <tr>\n",
              "      <th>2</th>\n",
              "      <td>4001</td>\n",
              "      <td>0</td>\n",
              "      <td>1</td>\n",
              "      <td>0</td>\n",
              "    </tr>\n",
              "    <tr>\n",
              "      <th>3</th>\n",
              "      <td>3499</td>\n",
              "      <td>1</td>\n",
              "      <td>0</td>\n",
              "      <td>0</td>\n",
              "    </tr>\n",
              "    <tr>\n",
              "      <th>4</th>\n",
              "      <td>3500</td>\n",
              "      <td>1</td>\n",
              "      <td>0</td>\n",
              "      <td>0</td>\n",
              "    </tr>\n",
              "    <tr>\n",
              "      <th>5</th>\n",
              "      <td>3501</td>\n",
              "      <td>1</td>\n",
              "      <td>0</td>\n",
              "      <td>0</td>\n",
              "    </tr>\n",
              "    <tr>\n",
              "      <th>6</th>\n",
              "      <td>2499</td>\n",
              "      <td>0</td>\n",
              "      <td>0</td>\n",
              "      <td>1</td>\n",
              "    </tr>\n",
              "    <tr>\n",
              "      <th>7</th>\n",
              "      <td>2500</td>\n",
              "      <td>0</td>\n",
              "      <td>0</td>\n",
              "      <td>1</td>\n",
              "    </tr>\n",
              "    <tr>\n",
              "      <th>8</th>\n",
              "      <td>2501</td>\n",
              "      <td>0</td>\n",
              "      <td>0</td>\n",
              "      <td>1</td>\n",
              "    </tr>\n",
              "  </tbody>\n",
              "</table>\n",
              "</div>"
            ],
            "text/plain": [
              "   Rent  city_NYC  city_SF  city_Seattle\n",
              "0  3999         0        1             0\n",
              "1  4000         0        1             0\n",
              "2  4001         0        1             0\n",
              "3  3499         1        0             0\n",
              "4  3500         1        0             0\n",
              "5  3501         1        0             0\n",
              "6  2499         0        0             1\n",
              "7  2500         0        0             1\n",
              "8  2501         0        0             1"
            ]
          },
          "metadata": {
            "tags": []
          },
          "execution_count": 82
        }
      ]
    },
    {
      "cell_type": "code",
      "metadata": {
        "id": "W2OKVuk2g7-8",
        "outputId": "14f13b64-9dc5-4b34-eb08-89973754cd23",
        "colab": {
          "base_uri": "https://localhost:8080/",
          "height": 137
        }
      },
      "source": [
        "one_hot_df[['city_NYC','city_SF','city_Seattle']].drop_duplicates()"
      ],
      "execution_count": 85,
      "outputs": [
        {
          "output_type": "execute_result",
          "data": {
            "text/html": [
              "<div>\n",
              "<style scoped>\n",
              "    .dataframe tbody tr th:only-of-type {\n",
              "        vertical-align: middle;\n",
              "    }\n",
              "\n",
              "    .dataframe tbody tr th {\n",
              "        vertical-align: top;\n",
              "    }\n",
              "\n",
              "    .dataframe thead th {\n",
              "        text-align: right;\n",
              "    }\n",
              "</style>\n",
              "<table border=\"1\" class=\"dataframe\">\n",
              "  <thead>\n",
              "    <tr style=\"text-align: right;\">\n",
              "      <th></th>\n",
              "      <th>city_NYC</th>\n",
              "      <th>city_SF</th>\n",
              "      <th>city_Seattle</th>\n",
              "    </tr>\n",
              "  </thead>\n",
              "  <tbody>\n",
              "    <tr>\n",
              "      <th>0</th>\n",
              "      <td>0</td>\n",
              "      <td>1</td>\n",
              "      <td>0</td>\n",
              "    </tr>\n",
              "    <tr>\n",
              "      <th>3</th>\n",
              "      <td>1</td>\n",
              "      <td>0</td>\n",
              "      <td>0</td>\n",
              "    </tr>\n",
              "    <tr>\n",
              "      <th>6</th>\n",
              "      <td>0</td>\n",
              "      <td>0</td>\n",
              "      <td>1</td>\n",
              "    </tr>\n",
              "  </tbody>\n",
              "</table>\n",
              "</div>"
            ],
            "text/plain": [
              "   city_NYC  city_SF  city_Seattle\n",
              "0         0        1             0\n",
              "3         1        0             0\n",
              "6         0        0             1"
            ]
          },
          "metadata": {
            "tags": []
          },
          "execution_count": 85
        }
      ]
    },
    {
      "cell_type": "markdown",
      "metadata": {
        "id": "1XGeyZCA5Myt"
      },
      "source": [
        "Con la codificación one-hot, el término de intersección (intercepto) representa la media global de la variable objetivo: 'Renta', y cada uno de los coeficientes lineales representa que tanto difiere la renta media de esa ciudad respecto a la media global."
      ]
    },
    {
      "cell_type": "code",
      "metadata": {
        "id": "AVuLyQg9X8ff"
      },
      "source": [
        "from sklearn import linear_model"
      ],
      "execution_count": 86,
      "outputs": []
    },
    {
      "cell_type": "code",
      "metadata": {
        "id": "jY6LNAeQX8i-",
        "outputId": "9ccee60a-0432-41d6-bda8-9fcd65bc1bee",
        "colab": {
          "base_uri": "https://localhost:8080/"
        }
      },
      "source": [
        "model = linear_model.LinearRegression()\n",
        "model.fit(one_hot_df[['city_NYC','city_SF','city_Seattle']],one_hot_df['Rent'])"
      ],
      "execution_count": 87,
      "outputs": [
        {
          "output_type": "execute_result",
          "data": {
            "text/plain": [
              "LinearRegression(copy_X=True, fit_intercept=True, n_jobs=None, normalize=False)"
            ]
          },
          "metadata": {
            "tags": []
          },
          "execution_count": 87
        }
      ]
    },
    {
      "cell_type": "code",
      "metadata": {
        "id": "jt4pVtw1X8nx",
        "outputId": "d89b67ee-20d5-4b06-8b8d-c740c2284f84",
        "colab": {
          "base_uri": "https://localhost:8080/"
        }
      },
      "source": [
        "print(f'Coeficientes: , {model.coef_}')\n",
        "print(f'Intercept: , {model.intercept_}')"
      ],
      "execution_count": 88,
      "outputs": [
        {
          "output_type": "stream",
          "text": [
            "Coeficientes: , [ 166.66666667  666.66666667 -833.33333333]\n",
            "Intercept: , 3333.3333333333335\n"
          ],
          "name": "stdout"
        }
      ]
    },
    {
      "cell_type": "code",
      "metadata": {
        "id": "1gJJr9V0X8zF",
        "outputId": "cedffffb-0940-4b2d-ddba-56080ac392d7",
        "colab": {
          "base_uri": "https://localhost:8080/"
        }
      },
      "source": [
        "print('Global mean: ', df_test['Rent'].mean())\n",
        "print(df_test.groupby('City').mean())"
      ],
      "execution_count": 89,
      "outputs": [
        {
          "output_type": "stream",
          "text": [
            "Global mean:  3333.3333333333335\n",
            "         Rent\n",
            "City         \n",
            "NYC      3500\n",
            "SF       4000\n",
            "Seattle  2500\n"
          ],
          "name": "stdout"
        }
      ]
    },
    {
      "cell_type": "markdown",
      "metadata": {
        "id": "J8VZzozBn8B7"
      },
      "source": [
        "Ahora entrenemos el mismo modelo con dummy coding"
      ]
    },
    {
      "cell_type": "code",
      "metadata": {
        "id": "HK4yOactX965",
        "outputId": "36ce6ab6-77b9-43fd-8388-fbe2a1bb1671",
        "colab": {
          "base_uri": "https://localhost:8080/",
          "height": 317
        }
      },
      "source": [
        "dummy_df = pd.get_dummies(df_test, prefix=['city'], drop_first=True)\n",
        "dummy_df"
      ],
      "execution_count": 91,
      "outputs": [
        {
          "output_type": "execute_result",
          "data": {
            "text/html": [
              "<div>\n",
              "<style scoped>\n",
              "    .dataframe tbody tr th:only-of-type {\n",
              "        vertical-align: middle;\n",
              "    }\n",
              "\n",
              "    .dataframe tbody tr th {\n",
              "        vertical-align: top;\n",
              "    }\n",
              "\n",
              "    .dataframe thead th {\n",
              "        text-align: right;\n",
              "    }\n",
              "</style>\n",
              "<table border=\"1\" class=\"dataframe\">\n",
              "  <thead>\n",
              "    <tr style=\"text-align: right;\">\n",
              "      <th></th>\n",
              "      <th>Rent</th>\n",
              "      <th>city_SF</th>\n",
              "      <th>city_Seattle</th>\n",
              "    </tr>\n",
              "  </thead>\n",
              "  <tbody>\n",
              "    <tr>\n",
              "      <th>0</th>\n",
              "      <td>3999</td>\n",
              "      <td>1</td>\n",
              "      <td>0</td>\n",
              "    </tr>\n",
              "    <tr>\n",
              "      <th>1</th>\n",
              "      <td>4000</td>\n",
              "      <td>1</td>\n",
              "      <td>0</td>\n",
              "    </tr>\n",
              "    <tr>\n",
              "      <th>2</th>\n",
              "      <td>4001</td>\n",
              "      <td>1</td>\n",
              "      <td>0</td>\n",
              "    </tr>\n",
              "    <tr>\n",
              "      <th>3</th>\n",
              "      <td>3499</td>\n",
              "      <td>0</td>\n",
              "      <td>0</td>\n",
              "    </tr>\n",
              "    <tr>\n",
              "      <th>4</th>\n",
              "      <td>3500</td>\n",
              "      <td>0</td>\n",
              "      <td>0</td>\n",
              "    </tr>\n",
              "    <tr>\n",
              "      <th>5</th>\n",
              "      <td>3501</td>\n",
              "      <td>0</td>\n",
              "      <td>0</td>\n",
              "    </tr>\n",
              "    <tr>\n",
              "      <th>6</th>\n",
              "      <td>2499</td>\n",
              "      <td>0</td>\n",
              "      <td>1</td>\n",
              "    </tr>\n",
              "    <tr>\n",
              "      <th>7</th>\n",
              "      <td>2500</td>\n",
              "      <td>0</td>\n",
              "      <td>1</td>\n",
              "    </tr>\n",
              "    <tr>\n",
              "      <th>8</th>\n",
              "      <td>2501</td>\n",
              "      <td>0</td>\n",
              "      <td>1</td>\n",
              "    </tr>\n",
              "  </tbody>\n",
              "</table>\n",
              "</div>"
            ],
            "text/plain": [
              "   Rent  city_SF  city_Seattle\n",
              "0  3999        1             0\n",
              "1  4000        1             0\n",
              "2  4001        1             0\n",
              "3  3499        0             0\n",
              "4  3500        0             0\n",
              "5  3501        0             0\n",
              "6  2499        0             1\n",
              "7  2500        0             1\n",
              "8  2501        0             1"
            ]
          },
          "metadata": {
            "tags": []
          },
          "execution_count": 91
        }
      ]
    },
    {
      "cell_type": "code",
      "metadata": {
        "id": "NGvgyHzaX9-j"
      },
      "source": [
        ""
      ],
      "execution_count": null,
      "outputs": []
    },
    {
      "cell_type": "markdown",
      "metadata": {
        "id": "T4VIrXhe5rTm"
      },
      "source": [
        "Con codificación dummy, el coeficiente de sesgo (intercepto) representa el valor medio de la variable $y$ para la categoría de referencia, que en el ejemplo es la ciudad NYC. El coeficiente para la *i*-ésima característica es igual a la diferencia entre el valor medio de la respuesta para la i-ésima categoría y la media de la categoría de referencia."
      ]
    },
    {
      "cell_type": "code",
      "metadata": {
        "id": "Wp5OPxyLX_BT",
        "outputId": "b2c7e1c2-bb1b-471c-eff5-ffa5920f22cb",
        "colab": {
          "base_uri": "https://localhost:8080/"
        }
      },
      "source": [
        "model.fit(dummy_df[['city_SF','city_Seattle']], dummy_df['Rent'])\n",
        "print(f'Coeficientes: , {model.coef_}')\n",
        "print(f'Intercept: , {model.intercept_}')"
      ],
      "execution_count": 92,
      "outputs": [
        {
          "output_type": "stream",
          "text": [
            "Coeficientes: , [  500. -1000.]\n",
            "Intercept: , 3500.0\n"
          ],
          "name": "stdout"
        }
      ]
    },
    {
      "cell_type": "code",
      "metadata": {
        "id": "KmxnKmEgX_EZ"
      },
      "source": [
        ""
      ],
      "execution_count": null,
      "outputs": []
    },
    {
      "cell_type": "markdown",
      "metadata": {
        "id": "m8NekVw3VWPz"
      },
      "source": [
        "### Dummy Coding"
      ]
    },
    {
      "cell_type": "code",
      "metadata": {
        "id": "CCP5QaaIYCVd"
      },
      "source": [
        ""
      ],
      "execution_count": null,
      "outputs": []
    },
    {
      "cell_type": "code",
      "metadata": {
        "id": "wfEB1dHHYCZC"
      },
      "source": [
        ""
      ],
      "execution_count": null,
      "outputs": []
    },
    {
      "cell_type": "code",
      "metadata": {
        "id": "1O7jg8AOYCcQ"
      },
      "source": [
        ""
      ],
      "execution_count": null,
      "outputs": []
    },
    {
      "cell_type": "code",
      "metadata": {
        "id": "ZIH6sQtOYCfu"
      },
      "source": [
        ""
      ],
      "execution_count": null,
      "outputs": []
    },
    {
      "cell_type": "code",
      "metadata": {
        "id": "qGTZSJ96YCi4"
      },
      "source": [
        ""
      ],
      "execution_count": null,
      "outputs": []
    },
    {
      "cell_type": "code",
      "metadata": {
        "id": "-P99Y0DwYCmU"
      },
      "source": [
        ""
      ],
      "execution_count": null,
      "outputs": []
    },
    {
      "cell_type": "code",
      "metadata": {
        "id": "GUx89EN9YCpd"
      },
      "source": [
        ""
      ],
      "execution_count": null,
      "outputs": []
    },
    {
      "cell_type": "markdown",
      "metadata": {
        "id": "P8YzBWlcVZBk"
      },
      "source": [
        "\n",
        "### Sum (or Deviation) Coding"
      ]
    },
    {
      "cell_type": "code",
      "metadata": {
        "id": "XFWzHjnDYD2k"
      },
      "source": [
        ""
      ],
      "execution_count": null,
      "outputs": []
    },
    {
      "cell_type": "code",
      "metadata": {
        "id": "-42qwcNzYD6T"
      },
      "source": [
        ""
      ],
      "execution_count": null,
      "outputs": []
    },
    {
      "cell_type": "code",
      "metadata": {
        "id": "M81BjV0sYD-b"
      },
      "source": [
        ""
      ],
      "execution_count": null,
      "outputs": []
    },
    {
      "cell_type": "code",
      "metadata": {
        "id": "vp27h1sVYECp"
      },
      "source": [
        ""
      ],
      "execution_count": null,
      "outputs": []
    },
    {
      "cell_type": "markdown",
      "metadata": {
        "id": "hm-iIERMpG-N"
      },
      "source": [
        "Utilizando el ejemplo de prueba"
      ]
    },
    {
      "cell_type": "code",
      "metadata": {
        "id": "RAlF244-YFiH"
      },
      "source": [
        ""
      ],
      "execution_count": null,
      "outputs": []
    },
    {
      "cell_type": "code",
      "metadata": {
        "id": "gOCOGCnIYFmQ"
      },
      "source": [
        ""
      ],
      "execution_count": null,
      "outputs": []
    },
    {
      "cell_type": "code",
      "metadata": {
        "id": "WWlZl1ZZYFrA"
      },
      "source": [
        ""
      ],
      "execution_count": null,
      "outputs": []
    },
    {
      "cell_type": "code",
      "metadata": {
        "id": "NmQrkZ0VYFvC"
      },
      "source": [
        ""
      ],
      "execution_count": null,
      "outputs": []
    },
    {
      "cell_type": "code",
      "metadata": {
        "id": "iLwV3xzEYFyG"
      },
      "source": [
        ""
      ],
      "execution_count": null,
      "outputs": []
    },
    {
      "cell_type": "markdown",
      "metadata": {
        "id": "GRFxGFIG7r5q"
      },
      "source": [
        "La codificación de efectos (sum coding) es muy similar a la codificación dummy, pero da como resultado modelos de regresión lineal que son aún más simples de interpretar.\n",
        "\n",
        "En el ejemplo, vemos que el término de intersección representa la media global del la variable respuesta, y los coeficientes individuales indican cuánto las medias de las categorías individuales difieren de la media global. (Esto se llama el efecto principal de la categoría o nivel, de ahí el nombre \"codificación de efectos\").\n",
        "\n",
        "La codificación One-hot, encontró la misma intersección y coeficientes, pero en ese caso hay coeficientes lineales para cada ciudad. En la codificación de efecto, ningun feature representa la categoría de referencia, ***por lo que el efecto de la categoría de referencia debe calcularse por separado como la suma negativa de los coeficientes de todas las demás categorías.***"
      ]
    },
    {
      "cell_type": "code",
      "metadata": {
        "id": "iD55sBBjYG_1"
      },
      "source": [
        ""
      ],
      "execution_count": null,
      "outputs": []
    },
    {
      "cell_type": "code",
      "metadata": {
        "id": "NKay_oI0YHCs"
      },
      "source": [
        ""
      ],
      "execution_count": null,
      "outputs": []
    },
    {
      "cell_type": "markdown",
      "metadata": {
        "id": "0Qj1FCbp8y2Q"
      },
      "source": [
        "Restulados de la regresión lineal con One-hot encoding\n",
        "\n",
        "Coefficients: $[ 166.66666667,   666.66666667,  -833.33333333]$\n",
        "\n",
        "Intercept: $3333.3333333333335$"
      ]
    },
    {
      "cell_type": "code",
      "metadata": {
        "id": "al0_HBdgYILL"
      },
      "source": [
        ""
      ],
      "execution_count": null,
      "outputs": []
    },
    {
      "cell_type": "code",
      "metadata": {
        "id": "LExuuk-_YIP5"
      },
      "source": [
        ""
      ],
      "execution_count": null,
      "outputs": []
    },
    {
      "cell_type": "code",
      "metadata": {
        "id": "uyBCc0zlYIen"
      },
      "source": [
        ""
      ],
      "execution_count": null,
      "outputs": []
    },
    {
      "cell_type": "markdown",
      "metadata": {
        "id": "bVlwfMfRVbvf"
      },
      "source": [
        "### Backward Difference Coding"
      ]
    },
    {
      "cell_type": "code",
      "metadata": {
        "id": "QqYKpEowYJ-q"
      },
      "source": [
        ""
      ],
      "execution_count": null,
      "outputs": []
    },
    {
      "cell_type": "code",
      "metadata": {
        "id": "3ePLmHhCYKFJ"
      },
      "source": [
        ""
      ],
      "execution_count": null,
      "outputs": []
    },
    {
      "cell_type": "code",
      "metadata": {
        "id": "fj3PVpnwYKKb"
      },
      "source": [
        ""
      ],
      "execution_count": null,
      "outputs": []
    },
    {
      "cell_type": "code",
      "metadata": {
        "id": "r1j6Pw0DYKOo"
      },
      "source": [
        ""
      ],
      "execution_count": null,
      "outputs": []
    },
    {
      "cell_type": "markdown",
      "metadata": {
        "id": "8u71jwcC_WNl"
      },
      "source": [
        "Utilizando el ejemplo de prueba"
      ]
    },
    {
      "cell_type": "code",
      "metadata": {
        "id": "RBv3d8olYLSH"
      },
      "source": [
        ""
      ],
      "execution_count": null,
      "outputs": []
    },
    {
      "cell_type": "code",
      "metadata": {
        "id": "lUwDFfA0YLWv"
      },
      "source": [
        ""
      ],
      "execution_count": null,
      "outputs": []
    },
    {
      "cell_type": "code",
      "metadata": {
        "id": "AEbeqUB7YLa6"
      },
      "source": [
        ""
      ],
      "execution_count": null,
      "outputs": []
    },
    {
      "cell_type": "code",
      "metadata": {
        "id": "I-CcEK-cYLen"
      },
      "source": [
        ""
      ],
      "execution_count": null,
      "outputs": []
    },
    {
      "cell_type": "markdown",
      "metadata": {
        "id": "aD4F8yuCCruy"
      },
      "source": [
        "La codificación de diferencia en reversa es útil para codificar variables ordinales.\n",
        "\n",
        "En el ejemplo, vemos que el término de intersección representa la media global de la variable respuesta, y los coeficientes individuales indican cuánto las medias de las categorías individuales difieren de la media de la categoría inmediatamente anterior."
      ]
    },
    {
      "cell_type": "code",
      "metadata": {
        "id": "zm8AfMk0YMdH"
      },
      "source": [
        ""
      ],
      "execution_count": null,
      "outputs": []
    },
    {
      "cell_type": "code",
      "metadata": {
        "id": "OFxf2ayuYMg3"
      },
      "source": [
        ""
      ],
      "execution_count": null,
      "outputs": []
    },
    {
      "cell_type": "markdown",
      "metadata": {
        "id": "ps-YS27NVhjv"
      },
      "source": [
        "### Helmert Coding"
      ]
    },
    {
      "cell_type": "code",
      "metadata": {
        "id": "U_ElH8UOAFDP"
      },
      "source": [
        ""
      ],
      "execution_count": null,
      "outputs": []
    },
    {
      "cell_type": "code",
      "metadata": {
        "id": "HE763qDfYNo4"
      },
      "source": [
        ""
      ],
      "execution_count": null,
      "outputs": []
    },
    {
      "cell_type": "code",
      "metadata": {
        "id": "7hesv13FYNss"
      },
      "source": [
        ""
      ],
      "execution_count": null,
      "outputs": []
    },
    {
      "cell_type": "code",
      "metadata": {
        "id": "EyuORMsGYNwV"
      },
      "source": [
        ""
      ],
      "execution_count": null,
      "outputs": []
    },
    {
      "cell_type": "code",
      "metadata": {
        "id": "EbabJfmhYNz2"
      },
      "source": [
        ""
      ],
      "execution_count": null,
      "outputs": []
    },
    {
      "cell_type": "markdown",
      "metadata": {
        "id": "yHPhkTQWA3us"
      },
      "source": [
        "Utilizando el ejemplo de prueba"
      ]
    },
    {
      "cell_type": "code",
      "metadata": {
        "id": "yB5BVu1LYPy5"
      },
      "source": [
        ""
      ],
      "execution_count": null,
      "outputs": []
    },
    {
      "cell_type": "code",
      "metadata": {
        "id": "_TsOqaDkYP4O"
      },
      "source": [
        ""
      ],
      "execution_count": null,
      "outputs": []
    },
    {
      "cell_type": "code",
      "metadata": {
        "id": "aXmn-oZdYP8U"
      },
      "source": [
        ""
      ],
      "execution_count": null,
      "outputs": []
    },
    {
      "cell_type": "code",
      "metadata": {
        "id": "ZmAT5PQ4YP_n"
      },
      "source": [
        ""
      ],
      "execution_count": null,
      "outputs": []
    },
    {
      "cell_type": "code",
      "metadata": {
        "id": "oD5XuzGQYQD2"
      },
      "source": [
        ""
      ],
      "execution_count": null,
      "outputs": []
    },
    {
      "cell_type": "code",
      "metadata": {
        "id": "5l7x8fN5YQHA"
      },
      "source": [
        ""
      ],
      "execution_count": null,
      "outputs": []
    },
    {
      "cell_type": "code",
      "metadata": {
        "id": "n8WYX3nTYQJq"
      },
      "source": [
        ""
      ],
      "execution_count": null,
      "outputs": []
    },
    {
      "cell_type": "markdown",
      "metadata": {
        "id": "9amfYePmVlt5"
      },
      "source": [
        "#Supervised Encoders"
      ]
    },
    {
      "cell_type": "code",
      "metadata": {
        "id": "xmEJN_oCO5Fx"
      },
      "source": [
        ""
      ],
      "execution_count": null,
      "outputs": []
    },
    {
      "cell_type": "code",
      "metadata": {
        "id": "XJ41viXsYTPh"
      },
      "source": [
        ""
      ],
      "execution_count": null,
      "outputs": []
    },
    {
      "cell_type": "code",
      "metadata": {
        "id": "C_Er02mBYTTv"
      },
      "source": [
        ""
      ],
      "execution_count": null,
      "outputs": []
    },
    {
      "cell_type": "code",
      "metadata": {
        "id": "FM6FNRVXO5IE"
      },
      "source": [
        ""
      ],
      "execution_count": null,
      "outputs": []
    },
    {
      "cell_type": "markdown",
      "metadata": {
        "id": "GjKnBAVhVovy"
      },
      "source": [
        "## Target Encoder"
      ]
    },
    {
      "cell_type": "code",
      "metadata": {
        "id": "1DCvjNXRYWLs"
      },
      "source": [
        ""
      ],
      "execution_count": null,
      "outputs": []
    },
    {
      "cell_type": "code",
      "metadata": {
        "id": "4o4mYAb3YWPW"
      },
      "source": [
        ""
      ],
      "execution_count": null,
      "outputs": []
    },
    {
      "cell_type": "code",
      "metadata": {
        "id": "s7LWU1zcYWSi"
      },
      "source": [
        ""
      ],
      "execution_count": null,
      "outputs": []
    },
    {
      "cell_type": "code",
      "metadata": {
        "id": "GSgzXWMfYWVt"
      },
      "source": [
        ""
      ],
      "execution_count": null,
      "outputs": []
    },
    {
      "cell_type": "code",
      "metadata": {
        "id": "JfjlA_k6YWYp"
      },
      "source": [
        ""
      ],
      "execution_count": null,
      "outputs": []
    },
    {
      "cell_type": "markdown",
      "metadata": {
        "id": "3TFTlmR2VsDP"
      },
      "source": [
        "## Leave-one-out Encoder"
      ]
    },
    {
      "cell_type": "code",
      "metadata": {
        "id": "63iPr69eYX2y"
      },
      "source": [
        ""
      ],
      "execution_count": null,
      "outputs": []
    },
    {
      "cell_type": "code",
      "metadata": {
        "id": "KMDJZHTQYX6I"
      },
      "source": [
        ""
      ],
      "execution_count": null,
      "outputs": []
    },
    {
      "cell_type": "code",
      "metadata": {
        "id": "eKc3F8qEYX9T"
      },
      "source": [
        ""
      ],
      "execution_count": null,
      "outputs": []
    },
    {
      "cell_type": "code",
      "metadata": {
        "id": "lLeKxXUKYYAa"
      },
      "source": [
        ""
      ],
      "execution_count": null,
      "outputs": []
    },
    {
      "cell_type": "markdown",
      "metadata": {
        "id": "ZCIDBuHIVvoM"
      },
      "source": [
        "## M-estimate Encoder"
      ]
    },
    {
      "cell_type": "code",
      "metadata": {
        "id": "akkEuspSYZXk"
      },
      "source": [
        ""
      ],
      "execution_count": null,
      "outputs": []
    },
    {
      "cell_type": "code",
      "metadata": {
        "id": "Pi5orBe1YZbP"
      },
      "source": [
        ""
      ],
      "execution_count": null,
      "outputs": []
    },
    {
      "cell_type": "code",
      "metadata": {
        "id": "Q6HkdGZVYZen"
      },
      "source": [
        ""
      ],
      "execution_count": null,
      "outputs": []
    },
    {
      "cell_type": "code",
      "metadata": {
        "id": "_KVzeQxNYZh3"
      },
      "source": [
        ""
      ],
      "execution_count": null,
      "outputs": []
    },
    {
      "cell_type": "markdown",
      "metadata": {
        "id": "JTxlXgAIVyTk"
      },
      "source": [
        "## Weight of Evidence Encoder"
      ]
    },
    {
      "cell_type": "code",
      "metadata": {
        "id": "jZ1cl1TyV65K"
      },
      "source": [
        ""
      ],
      "execution_count": null,
      "outputs": []
    },
    {
      "cell_type": "code",
      "metadata": {
        "id": "W3gBiLN0V_ep"
      },
      "source": [
        ""
      ],
      "execution_count": null,
      "outputs": []
    },
    {
      "cell_type": "code",
      "metadata": {
        "id": "GIlWJqj0WBAV"
      },
      "source": [
        ""
      ],
      "execution_count": null,
      "outputs": []
    },
    {
      "cell_type": "code",
      "metadata": {
        "id": "uj68FhWqG59g"
      },
      "source": [
        ""
      ],
      "execution_count": null,
      "outputs": []
    }
  ]
}